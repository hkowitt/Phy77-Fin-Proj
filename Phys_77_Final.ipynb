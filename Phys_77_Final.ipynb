{
 "cells": [
  {
   "cell_type": "code",
   "execution_count": 1,
   "id": "4a1cbb57",
   "metadata": {},
   "outputs": [],
   "source": [
    "import numpy as np\n",
    "import matplotlib.pyplot as plt\n",
    "import math\n",
    "\n",
    "##To start, I think we just want to use a random crossection for the system, and just try to do a monte carlo \n",
    "##of if a random neutron can escape or not\n",
    "\n",
    "#Example montecarlo loop\n",
    "def MC_ND_Sphere(M,N,R):\n",
    "    Nreps = 100\n",
    "    #empty Volume array\n",
    "    V    = np.zeros((Nreps)) \n",
    "    \n",
    "    #MonteCarlo Loop\n",
    "    for i in range(Nreps):\n",
    "        #empty position and radius arrays\n",
    "        D = np.ones((N,M))\n",
    "        Rad = np.zeros(M)\n",
    "        for p in range(N):\n",
    "            #populate positions & Calculate radii\n",
    "            D[p] = np.random.uniform(0,R,(1,M))\n",
    "            Rad = Rad + D[p]**2\n",
    "        #Calculate volume\n",
    "        V[i] = (R**N)*(2**N)*(Rad<(R**2)).sum()/M\n",
    "    \n",
    "        \n",
    "    RealVal = ((np.pi**(N/2))/(math.gamma(N/2 + 1)))*(R**N)\n",
    "    SimulatedVolume = np.mean(V)\n",
    "    StandardDeviation = np.std(V)\n",
    "\n",
    "    return SimulatedVolume,StandardDeviation , RealVal"
   ]
  },
  {
   "cell_type": "code",
   "execution_count": 2,
   "id": "3f4bd28d",
   "metadata": {},
   "outputs": [],
   "source": [
    "#I also think we should prioritize getting one particle modeled then switch to monte carlo\n",
    "\n",
    "#for a particle density of \"n\" and a cross section of \"s\"\n",
    "#the free path pdf is given by: 1/ns * e^-x/ns\n",
    "\n",
    "#integrate the pdf to get a cdf that goes from 0<y<1\n",
    "\n",
    "#from there we pick a random number from 0< <1, and then we can use that as the y value for the cdf,\n",
    "#which then can tell us the distance the particle will travel\n",
    "\n",
    "\n",
    "#we also need to make a neutron with a random direction, velocity\n",
    "\n",
    "#we can then compare to see if the distance in the direction of the neutron is travelling to the edge of our\n",
    "#sphere reactor is greater than or less than the interaction distance we just calculated\n",
    "\n",
    "#this essentially tells us if our neutron escaped or not, and from here we can do a similar simulation to see \n",
    "#what that neutron does (does it get absorbed does it fission or does it scatter)"
   ]
  },
  {
   "cell_type": "code",
   "execution_count": 3,
   "id": "e677ff22",
   "metadata": {},
   "outputs": [],
   "source": [
    "#also a note, for the total crossection, it is just the sum of the fission, absorbtion and scattering crossections"
   ]
  },
  {
   "cell_type": "code",
   "execution_count": null,
   "id": "2111de62",
   "metadata": {},
   "outputs": [],
   "source": []
  }
 ],
 "metadata": {
  "kernelspec": {
   "display_name": "Python 3 (ipykernel)",
   "language": "python",
   "name": "python3"
  },
  "language_info": {
   "codemirror_mode": {
    "name": "ipython",
    "version": 3
   },
   "file_extension": ".py",
   "mimetype": "text/x-python",
   "name": "python",
   "nbconvert_exporter": "python",
   "pygments_lexer": "ipython3",
   "version": "3.9.19"
  }
 },
 "nbformat": 4,
 "nbformat_minor": 5
}
